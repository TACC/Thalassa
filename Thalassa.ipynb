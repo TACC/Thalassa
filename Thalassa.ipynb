{
 "cells": [
  {
   "cell_type": "code",
   "execution_count": null,
   "id": "0f70a4d6-dd62-417e-adc8-b911ae408d6c",
   "metadata": {},
   "outputs": [],
   "source": [
    "import thalassa\n",
    "\n",
    "reload = lambda: thalassa.reload(\"thalassa\")"
   ]
  },
  {
   "cell_type": "code",
   "execution_count": null,
   "id": "e0714d22-9986-441a-8f1a-4f38f056a03e",
   "metadata": {
    "tags": []
   },
   "outputs": [],
   "source": [
    "# Open a dataset\n",
    "reload()\n",
    "ds = thalassa.open_dataset(\"data/dataset.nc\")\n",
    "ds"
   ]
  },
  {
   "cell_type": "markdown",
   "id": "7b1cd5d5-9259-479c-8dff-95b835d38116",
   "metadata": {},
   "source": [
    "## Display the graphs using the API"
   ]
  },
  {
   "cell_type": "code",
   "execution_count": null,
   "id": "390ded62-7b3f-4477-9a93-0431ceb21657",
   "metadata": {},
   "outputs": [],
   "source": [
    "# Createa a trimesh object\n",
    "# you will need a different trimesh object for each timestamp you want to plot\n",
    "# If you set `timestamp` equal to `\"MAXIMUM\"` then the maximum elevation of \n",
    "# the whole dataset gets calculated\n",
    "reload()\n",
    "\n",
    "trimesh = thalassa.get_trimesh(\n",
    "    dataset=ds,\n",
    "    longitude_var=\"SCHISM_hgrid_node_x\",\n",
    "    latitude_var=\"SCHISM_hgrid_node_y\",\n",
    "    elevation_var=\"elev\",\n",
    "    simplices_var=\"SCHISM_hgrid_face_nodes\",\n",
    "    time_var=\"time\",\n",
    "    timestamp=\"MAXIMUM\",\n",
    "#    timestamp=\"2020-01-01T01:00:00.000000000\",\n",
    ")"
   ]
  },
  {
   "cell_type": "markdown",
   "id": "26746edc-cd0a-4f8f-8cac-3c244e85a26b",
   "metadata": {},
   "source": [
    "#### Display the GRID"
   ]
  },
  {
   "cell_type": "code",
   "execution_count": null,
   "id": "74deaa72-3d10-4c2e-adca-580e2c6f0691",
   "metadata": {},
   "outputs": [],
   "source": [
    "dmap = thalassa.get_wireframe(trimesh=trimesh)\n",
    "dmap.opts(width=600)"
   ]
  },
  {
   "cell_type": "markdown",
   "id": "86fa9de2-c0ee-4a66-a6c7-0ef31f7d33eb",
   "metadata": {},
   "source": [
    "#### Display the Forecast"
   ]
  },
  {
   "cell_type": "code",
   "execution_count": null,
   "id": "a02d57aa-039c-429b-bb34-def67fc4eec8",
   "metadata": {},
   "outputs": [],
   "source": [
    "dmap = thalassa.get_elevation_dmap(trimesh=trimesh)\n",
    "dmap.opts(width=600)"
   ]
  },
  {
   "cell_type": "markdown",
   "id": "4ff93d70-843d-4ddd-bca2-a02ad10a2612",
   "metadata": {},
   "source": [
    "#### Display the Forecast + Grid"
   ]
  },
  {
   "cell_type": "code",
   "execution_count": null,
   "id": "2efdff5b-72d0-4923-858f-fb69f8c8acb5",
   "metadata": {},
   "outputs": [],
   "source": [
    "dmap = thalassa.get_elevation_dmap(trimesh=trimesh, show_grid=True)\n",
    "dmap.opts(width=600)"
   ]
  },
  {
   "cell_type": "markdown",
   "id": "d1d9a3c9-b82d-4e92-adf8-fcc361d76415",
   "metadata": {},
   "source": [
    "## Display UI\n",
    "\n",
    "Just create a ThalassaUI instance and display the `sidebar` attribute"
   ]
  },
  {
   "cell_type": "code",
   "execution_count": null,
   "id": "ff9215dd-29ad-4290-a46b-c55ff0ea5693",
   "metadata": {},
   "outputs": [],
   "source": [
    "from thalassa.ui import ThalassaUI"
   ]
  },
  {
   "cell_type": "code",
   "execution_count": null,
   "id": "48f835a3-f2a7-415d-b4ab-92f104f1afcd",
   "metadata": {},
   "outputs": [],
   "source": [
    "ui = ThalassaUI(display_variables=True, display_stations=True)\n",
    "ui.sidebar"
   ]
  }
 ],
 "metadata": {
  "kernelspec": {
   "display_name": "Python 3 (ipykernel)",
   "language": "python",
   "name": "python3"
  },
  "language_info": {
   "codemirror_mode": {
    "name": "ipython",
    "version": 3
   },
   "file_extension": ".py",
   "mimetype": "text/x-python",
   "name": "python",
   "nbconvert_exporter": "python",
   "pygments_lexer": "ipython3",
   "version": "3.8.12"
  }
 },
 "nbformat": 4,
 "nbformat_minor": 5
}
